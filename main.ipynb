{
 "cells": [
  {
   "cell_type": "code",
   "execution_count": 2,
   "metadata": {},
   "outputs": [],
   "source": [
    "from tools import *\n",
    "import random\n",
    "\n",
    "#   BL（bottom-up left-justified）法求解二位装箱问题\n",
    "#   @BetterBench\n",
    "#   思想：首先将选中的物体放在箱子的右上角，然后尽量向下向左作连续移动，直到不能移动为止\n",
    "# 输入参数\n",
    "itemNum=30 #物品数目\n",
    "AllItem=np.array([[random.randint(1, 5) for j in range(1, 3)] for i in range(1,itemNum+1)])  #随机生成30个物品，[width,height]\n",
    "Bin=[10,10] #箱子宽度与高度\n",
    "ran=list(range(itemNum))\n",
    "random.shuffle(ran) #随机生成装箱序列\n",
    "\n",
    "ansBXY=np.zeros((itemNum,3))  #[箱子编号，X坐标，Y坐标]\n",
    "RPNXY=[];\n",
    "BinNum=1;\n",
    "flagItem=np.zeros(itemNum) #标记物品是否被装入箱子，0没有装入，1装入\n",
    "# 开始装箱\n",
    "\n",
    "for i in range(itemNum):\n",
    "    if flagItem[ran[i]]==0:\n",
    "        item=AllItem[ran[i],:]\n",
    "        itemRP=Bin  #起点全部在箱子右上角顶点\n",
    "        flagOL=overlap(item,AllItem,itemRP,RPNXY) #如果重合flagOL=1；反之flagOL=0\n",
    "        if flagOL==0:\n",
    "            itemRP=finalPos(item,AllItem,itemRP,RPNXY) #更新物品从当前位置向下向左移动后到最终位置后右上角顶点坐标\n",
    "            RPNXY.append([ran[i],itemRP[0],itemRP[1]]) # 记录装进箱子的矩形【ID,width,height】\n",
    "            flagItem[ran[i]]=1\n",
    "# 启用第下一个箱子\n",
    "# if list(flagItem).count(0)>0:\n",
    "#     BinNum=BinNum+1\n",
    "#     RPNXY=[]"
   ]
  },
  {
   "cell_type": "code",
   "execution_count": 3,
   "metadata": {},
   "outputs": [
    {
     "data": {
      "text/plain": [
       "array([[2, 4],\n",
       "       [2, 5],\n",
       "       [5, 4],\n",
       "       [1, 1],\n",
       "       [1, 3],\n",
       "       [5, 1],\n",
       "       [4, 3],\n",
       "       [5, 4],\n",
       "       [3, 2],\n",
       "       [2, 1],\n",
       "       [4, 1],\n",
       "       [5, 5],\n",
       "       [1, 3],\n",
       "       [5, 1],\n",
       "       [1, 1],\n",
       "       [5, 1],\n",
       "       [5, 5],\n",
       "       [3, 1],\n",
       "       [4, 4],\n",
       "       [5, 4],\n",
       "       [3, 3],\n",
       "       [4, 2],\n",
       "       [3, 1],\n",
       "       [3, 4],\n",
       "       [5, 1],\n",
       "       [5, 4],\n",
       "       [2, 5],\n",
       "       [5, 1],\n",
       "       [1, 3],\n",
       "       [2, 5]])"
      ]
     },
     "execution_count": 3,
     "metadata": {},
     "output_type": "execute_result"
    }
   ],
   "source": [
    "AllItem"
   ]
  },
  {
   "cell_type": "code",
   "execution_count": 4,
   "metadata": {},
   "outputs": [
    {
     "data": {
      "text/plain": [
       "array([0., 0., 1., 1., 1., 0., 1., 0., 1., 1., 0., 0., 1., 1., 1., 1., 0.,\n",
       "       0., 0., 1., 0., 0., 0., 0., 0., 0., 0., 0., 1., 0.])"
      ]
     },
     "execution_count": 4,
     "metadata": {},
     "output_type": "execute_result"
    }
   ],
   "source": [
    "flagItem"
   ]
  },
  {
   "cell_type": "code",
   "execution_count": 20,
   "metadata": {},
   "outputs": [
    {
     "data": {
      "text/plain": [
       "[[3, 2, 3], [2, 5, 3], [8, 3, 4], [5, 4, 5]]"
      ]
     },
     "execution_count": 20,
     "metadata": {},
     "output_type": "execute_result"
    }
   ],
   "source": [
    "# 右上角定点坐标\n",
    "RPNXY"
   ]
  },
  {
   "cell_type": "code",
   "execution_count": 4,
   "metadata": {},
   "outputs": [
    {
     "data": {
      "text/plain": [
       "array([[1, 3],\n",
       "       [5, 5],\n",
       "       [1, 3],\n",
       "       [3, 5],\n",
       "       [2, 3],\n",
       "       [2, 1],\n",
       "       [3, 3],\n",
       "       [5, 3],\n",
       "       [3, 1],\n",
       "       [4, 3]])"
      ]
     },
     "execution_count": 4,
     "metadata": {},
     "output_type": "execute_result"
    }
   ],
   "source": [
    "AllItem"
   ]
  },
  {
   "cell_type": "markdown",
   "metadata": {},
   "source": [
    "# 2 计算利用率"
   ]
  },
  {
   "cell_type": "code",
   "execution_count": 5,
   "metadata": {},
   "outputs": [
    {
     "name": "stdout",
     "output_type": "stream",
     "text": [
      "利用率:0.81\n"
     ]
    }
   ],
   "source": [
    "rect_area = 0\n",
    "bin_area = Bin[0]*Bin[1]\n",
    "for id in RPNXY:\n",
    "  width,height = AllItem[id[0]]\n",
    "  rect_area += width*height\n",
    "print('利用率:{}'.format(rect_area/bin_area))"
   ]
  },
  {
   "cell_type": "markdown",
   "metadata": {},
   "source": [
    "# 3 可视化"
   ]
  },
  {
   "cell_type": "code",
   "execution_count": 7,
   "metadata": {},
   "outputs": [
    {
     "name": "stderr",
     "output_type": "stream",
     "text": [
      "<ipython-input-7-15d4e35982d4>:16: MatplotlibDeprecationWarning: savefig() got unexpected keyword argument \"kpi\" which is no longer supported as of 3.3 and will become an error two minor releases later\n",
      "  plt.savefig('result.png',kpi=300)\n"
     ]
    },
    {
     "data": {
      "image/png": "[encoded data removed]",
      "text/plain": [
       "<Figure size 432x288 with 1 Axes>"
      ]
     },
     "metadata": {
      "needs_background": "light"
     },
     "output_type": "display_data"
    }
   ],
   "source": [
    "\n",
    "\n",
    "import matplotlib.pyplot as plt\n",
    "import matplotlib.patches as patches\n",
    "import random\n",
    "fig, ax = plt.subplots(1, 1)\n",
    "ax1 = fig.gca()\n",
    "for i in RPNXY:\n",
    "    width,height = AllItem[i[0]]\n",
    "    rx,ry = i[1],i[2]\n",
    "    lx,ly = rx-width,ry-height\n",
    "    plt.xlim((0, Bin[0]))\n",
    "    plt.ylim((0, Bin[1]))\n",
    "    color = \"#\"+''.join([random.choice('0123456789ABCDEF') for j in range(6)])\n",
    "    rect = patches.Rectangle((lx, ly), width,height,linewidth=1, facecolor = color)\n",
    "    ax1.add_patch(rect)\n",
    "# plt.show()\n",
    "plt.savefig('result.png',kpi=300)"
   ]
  }
 ],
 "metadata": {
  "interpreter": {
   "hash": "cd78fef2128015050713e82ca51c6520b11aee7c9ee8df750520bbbc7384cbaa"
  },
  "kernelspec": {
   "display_name": "Python 3.8.5 ('base')",
   "language": "python",
   "name": "python3"
  },
  "language_info": {
   "codemirror_mode": {
    "name": "ipython",
    "version": 3
   },
   "file_extension": ".py",
   "mimetype": "text/x-python",
   "name": "python",
   "nbconvert_exporter": "python",
   "pygments_lexer": "ipython3",
   "version": "3.8.5"
  },
  "orig_nbformat": 4
 },
 "nbformat": 4,
 "nbformat_minor": 2
}
